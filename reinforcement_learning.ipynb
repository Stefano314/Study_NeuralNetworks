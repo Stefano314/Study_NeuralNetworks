{
 "cells": [
  {
   "attachments": {},
   "cell_type": "markdown",
   "metadata": {},
   "source": [
    "# **Reinforcement Learning**\n",
    "Here we will introduce briefly the main idea behind reinforcement learning and the fundamental tools it uses. We will also give few example of applications.\n",
    "\n",
    "We start by saying that reinforcement learning is something very present in humans. TO BE CONTINUED."
   ]
  },
  {
   "attachments": {},
   "cell_type": "markdown",
   "metadata": {},
   "source": []
  }
 ],
 "metadata": {
  "language_info": {
   "name": "python"
  },
  "orig_nbformat": 4
 },
 "nbformat": 4,
 "nbformat_minor": 2
}
