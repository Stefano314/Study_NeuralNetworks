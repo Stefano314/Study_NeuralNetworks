{
 "cells": [
  {
   "attachments": {},
   "cell_type": "markdown",
   "metadata": {},
   "source": [
    "# **Feedforward Neural Network**\n",
    "Feedforward neural networks are the simplest type of artificial neural network, in which information flows in one direction, from the input layer through one or more hidden layers to the output layer. They serves a huge variety of tasks; we will see few examples of generic **function approximations**.\n",
    "\n",
    "## **Linear Neural Networks**\n",
    "These are the simplest possible networks available, and they are exactly the same thing as the usual *linear regression*. In general, these types of networks have only one layer which leads directly to the output, in other words:\n",
    "\\begin{equation*}\n",
    "f(\\vec{x}) = y = \\vec{w}^T\\cdot \\vec{x} + b\\;,\n",
    "\\end{equation*}\n",
    "where $\\vec{x}$ is a vector containing all the *features* related to the observed object, $\\vec{w}$ is the weights vector with the same dimesionality as $\\vec{x}$ and $b$ is the bias. Of course, $\\vec{x}$ could also be one dimensional, for example in the very well known case of *spatial points* on an axis; in this case we would only have one parameter too - in addition to the bias - thus the usual line $y=mx+q$. We can also ask that the input variable is a matrix $X$, a collection of features related to different outputs - age and height for instance. In this case, the number of columns of $X$ will correspond to the dimensionality of the output vector $\\vec{y}$ and the relation becomes:\n",
    "\\begin{equation*}\n",
    "f(flatten(X)) = \\vec{y} = X\\vec{w} + b\\;.\n",
    "\\end{equation*}\n",
    "\n",
    "What makes a neural network linear is actually a linear *activation function* $a(v)$:\n",
    "\\begin{equation*}\n",
    "a(v) = k\\cdot v + b\\; , \\; v = \\vec{w}^T\\cdot \\vec{x} + b\\; .\n",
    "\\end{equation*}\n",
    "Even if $f$ is a combination of more functions - i.e. if the network has more layers - if all the activation functions are linear, then the neural network will also produce a linear response. This also means that adding layers in a linear neural network is pointless.\n",
    "All the results for linear regression are actually valid for a linear neural network, since they are the same thing."
   ]
  },
  {
   "attachments": {},
   "cell_type": "markdown",
   "metadata": {},
   "source": [
    "### **Shapes in a Neural Network**\n",
    "It's important to understand how to structure the data that is going to be fed into the neural network architecture. We are intersted in **Keras** specifically, but this type of data structure is adopted by many others.\n",
    "- **Layers**: We create a layer with Keras by first defining a model ```model=keras.Sequential()``` and then calling the \"add\" method as ```model.add(SPECS)```. Now, in the \"SPECS\" section we have to define the **type** of layer *- dense, recurrent, convolutional, .. -*, the number of **nodes** in that layer, the incoming **data shape** and the **activation function**.\n",
    "- **Input shapes**: The input shape of a layer in a neural network has to be structured as: ```(batches,points,features)```"
   ]
  },
  {
   "attachments": {},
   "cell_type": "markdown",
   "metadata": {},
   "source": [
    "## **Implement a Dense neural network for linear regression**\n",
    "In the example below we will implement the common linear regression procedure using the neural network formalism. This could seem like an overkill, and maybe it is, but in reality it is extremely fast and also useful to understand the functioning of a neural network."
   ]
  },
  {
   "cell_type": "markdown",
   "metadata": {},
   "source": [
    "- Import the required packages:"
   ]
  },
  {
   "cell_type": "code",
   "execution_count": 1,
   "metadata": {},
   "outputs": [],
   "source": [
    "import tensorflow as tf\n",
    "from tensorflow import keras\n",
    "import numpy as np"
   ]
  },
  {
   "cell_type": "markdown",
   "metadata": {},
   "source": [
    "- Define the dataset. In this case we want to perform a linear regression on $y=x+3$"
   ]
  },
  {
   "cell_type": "code",
   "execution_count": null,
   "metadata": {},
   "outputs": [],
   "source": [
    "x0 = -5.\n",
    "x_f = 5.\n",
    "x = np.linspace(x0, x_f, 10000)\n",
    "y = x+3"
   ]
  },
  {
   "cell_type": "markdown",
   "metadata": {},
   "source": [
    "- Define the neural network structure. Since it is a linear regression, we don't need intermediate layers, and we only need a *linear* activation function. We use the **mean squared error** as loss function, as we would usually do in linear regression problems."
   ]
  },
  {
   "cell_type": "code",
   "execution_count": null,
   "metadata": {},
   "outputs": [],
   "source": [
    "model = keras.Sequential()\n",
    "model.add(keras.layers.Dense(1, input_dim=1, activation='linear'))\n",
    "model.compile(loss='mse', optimizer='adam', metrics='mse')\n",
    "model.fit(x, y, batch_size=32, epochs=10, verbose=0)"
   ]
  },
  {
   "cell_type": "markdown",
   "metadata": {},
   "source": [
    "- Once we trained the network - meaning we updated the weights of the function f such that the function $S$ is minimized - we want to plot the predicted results if given the input vector $x$ corresponding to the x-axis spatial point. We expect that the neural network to be extremely precise in this case."
   ]
  },
  {
   "cell_type": "code",
   "execution_count": null,
   "metadata": {},
   "outputs": [],
   "source": [
    "import matplotlib.pyplot as plt\n",
    "res = model.predict(x)\n",
    "plt.plot(x, res, label='predicted')\n",
    "plt.plot(x, y, '--', label='exact')\n",
    "plt.legend()\n",
    "plt.show()"
   ]
  },
  {
   "cell_type": "markdown",
   "metadata": {},
   "source": [
    "<br/><br/>\n",
    "## **Implement a Dense neural network for a Non-Linear function**\n",
    "In the example below we will train a neural network to fit any generic 1D function. Of course, in this case the activation function $a$ won't be linear and we will need an intermediate layer."
   ]
  },
  {
   "cell_type": "markdown",
   "metadata": {},
   "source": [
    "- Import the required packages"
   ]
  },
  {
   "cell_type": "code",
   "execution_count": 1,
   "metadata": {},
   "outputs": [],
   "source": [
    "import tensorflow as tf\n",
    "from tensorflow import keras\n",
    "import numpy as np"
   ]
  },
  {
   "cell_type": "markdown",
   "metadata": {},
   "source": [
    "- Define the dataset. In this example we will use the *sinc* function defined as $y = \\dfrac{\\sin{x}}{x}$. In this case we use **relu** activation function."
   ]
  },
  {
   "cell_type": "code",
   "execution_count": 53,
   "metadata": {},
   "outputs": [
    {
     "name": "stdout",
     "output_type": "stream",
     "text": [
      "Model: \"sequential_28\"\n",
      "_________________________________________________________________\n",
      " Layer (type)                Output Shape              Param #   \n",
      "=================================================================\n",
      " dense_80 (Dense)            (None, 256)               512       \n",
      "                                                                 \n",
      " dense_81 (Dense)            (None, 128)               32896     \n",
      "                                                                 \n",
      " dense_82 (Dense)            (None, 1)                 129       \n",
      "                                                                 \n",
      "=================================================================\n",
      "Total params: 33,537\n",
      "Trainable params: 33,537\n",
      "Non-trainable params: 0\n",
      "_________________________________________________________________\n"
     ]
    }
   ],
   "source": [
    "x0 = -5.\n",
    "x_f = 5.\n",
    "x = np.linspace(x0, x_f, 10000)\n",
    "y = np.sin(10.*x)/x\n",
    "\n",
    "model = keras.Sequential()\n",
    "model.add(keras.layers.Dense(256, input_shape=(1,), activation='relu'))\n",
    "model.add(keras.layers.Dense(128, input_shape=(1,), activation='relu'))\n",
    "model.add(keras.layers.Dense(1, input_shape=(1,)))\n",
    "model.compile(loss='mse', optimizer='adam', metrics='mse')\n",
    "model.fit(x, y, batch_size=32, epochs=200, verbose=0)\n",
    "model.summary()"
   ]
  },
  {
   "cell_type": "markdown",
   "metadata": {},
   "source": [
    "- Again, we train the model and we plot the result compared with the actual function. In this case, we see that the borders are poorly approximated; this is mostly due to the data compression and the short training time."
   ]
  },
  {
   "cell_type": "code",
   "execution_count": 54,
   "metadata": {},
   "outputs": [
    {
     "data": {
      "image/png": "[encoded data removed]",
      "text/plain": [
       "<Figure size 432x288 with 1 Axes>"
      ]
     },
     "metadata": {
      "needs_background": "light"
     },
     "output_type": "display_data"
    }
   ],
   "source": [
    "# Display data\n",
    "import matplotlib.pyplot as plt\n",
    "res = model.predict(x, verbose=0)\n",
    "plt.plot(x, res, label='predicted')\n",
    "plt.plot(x, y, '--', label='exact')\n",
    "plt.legend()\n",
    "plt.show()"
   ]
  },
  {
   "attachments": {},
   "cell_type": "markdown",
   "metadata": {},
   "source": [
    "## **Implement a Dense neural network for a Non-Linear function in more dimensions**\n",
    "This final example on function fitting is devoted to multi-dimensional functions, in this case we will fit a 3D function. The neural network structure is exactly the one used for the non-linear function, with the only difference in the **dimensionality** of the dataset. "
   ]
  },
  {
   "cell_type": "markdown",
   "metadata": {},
   "source": [
    "- Import the required packages"
   ]
  },
  {
   "cell_type": "code",
   "execution_count": null,
   "metadata": {},
   "outputs": [],
   "source": [
    "import tensorflow as tf\n",
    "from tensorflow import keras\n",
    "import numpy as np"
   ]
  },
  {
   "cell_type": "markdown",
   "metadata": {},
   "source": [
    "- Define the dataset. In this case we will use a 3D non-normalized Gaussian."
   ]
  },
  {
   "cell_type": "code",
   "execution_count": 38,
   "metadata": {},
   "outputs": [],
   "source": [
    "def f(x, y):\n",
    "    return np.exp(-x**2 - y**2)\n",
    "\n",
    "x = np.linspace(-3, 3, 200)\n",
    "y = np.linspace(-3, 3, 200)\n",
    "\n",
    "X, Y = np.meshgrid(x, y)\n",
    "Z = f(X, Y)"
   ]
  },
  {
   "cell_type": "markdown",
   "metadata": {},
   "source": [
    "- Manipulate the data. In order to give the function to the neural network we need to transform it to a one dimensional vector."
   ]
  },
  {
   "cell_type": "code",
   "execution_count": 41,
   "metadata": {},
   "outputs": [
    {
     "name": "stdout",
     "output_type": "stream",
     "text": [
      "[[-3.         -3.        ]\n",
      " [-2.96984925 -3.        ]\n",
      " [-2.93969849 -3.        ]\n",
      " ...\n",
      " [ 2.93969849  3.        ]\n",
      " [ 2.96984925  3.        ]\n",
      " [ 3.          3.        ]]\n"
     ]
    },
    {
     "name": "stderr",
     "output_type": "stream",
     "text": [
      "C:\\Users\\stefa\\AppData\\Local\\Temp\\ipykernel_9540\\1157274537.py:2: FutureWarning: arrays to stack must be passed as a \"sequence\" type such as list or tuple. Support for non-sequence iterables such as generators is deprecated as of NumPy 1.16 and will raise an error in the future.\n",
      "  XY = np.vstack(map(np.ravel, (X,Y))).T\n"
     ]
    }
   ],
   "source": [
    "Z = np.reshape(Z, (200*200))\n",
    "XY = np.vstack(map(np.ravel, (X,Y))).T\n",
    "print(XY)"
   ]
  },
  {
   "cell_type": "markdown",
   "metadata": {},
   "source": [
    "- Define the neural network structure and train the model. We can see that in this case, since it is a ```Dense``` layer, the input shape is ```(2,)```, which means that we are giving a dataset with one single batch and with an undefined number of rows each of which has two features. The output will also be of the same structure."
   ]
  },
  {
   "cell_type": "code",
   "execution_count": 46,
   "metadata": {},
   "outputs": [
    {
     "data": {
      "text/plain": [
       "<keras.callbacks.History at 0x1828610f310>"
      ]
     },
     "execution_count": 46,
     "metadata": {},
     "output_type": "execute_result"
    }
   ],
   "source": [
    "model = keras.Sequential()\n",
    "model.add(keras.layers.Dense(units=256, activation='relu', input_shape=(2,)))\n",
    "model.add(keras.layers.Dense(128, activation='relu'))\n",
    "model.add(keras.layers.Dense(1))\n",
    "model.compile(loss='mse', optimizer='adam', metrics='mse')\n",
    "model.fit(XY, Z, batch_size=32, epochs=10, verbose=0)\n",
    "model.summary()"
   ]
  },
  {
   "cell_type": "markdown",
   "metadata": {},
   "source": [
    "- Plot the predicted data together with the initial function."
   ]
  },
  {
   "cell_type": "code",
   "execution_count": 20,
   "metadata": {},
   "outputs": [
    {
     "name": "stdout",
     "output_type": "stream",
     "text": [
      "Model: \"sequential_7\"\n",
      "_________________________________________________________________\n",
      " Layer (type)                Output Shape              Param #   \n",
      "=================================================================\n",
      " dense_19 (Dense)            (None, 256)               768       \n",
      "                                                                 \n",
      " dense_20 (Dense)            (None, 128)               32896     \n",
      "                                                                 \n",
      " dense_21 (Dense)            (None, 1)                 129       \n",
      "                                                                 \n",
      "=================================================================\n",
      "Total params: 33,793\n",
      "Trainable params: 33,793\n",
      "Non-trainable params: 0\n",
      "_________________________________________________________________\n",
      "1250/1250 [==============================] - 1s 1ms/step\n"
     ]
    },
    {
     "data": {
      "image/png": "[encoded data removed]",
      "text/plain": [
       "<Figure size 432x288 with 1 Axes>"
      ]
     },
     "metadata": {
      "needs_background": "light"
     },
     "output_type": "display_data"
    }
   ],
   "source": [
    "import matplotlib.pyplot as plt\n",
    "res = model.predict(XY)\n",
    "fig = plt.figure()\n",
    "ax = fig.add_subplot(111, projection='3d')\n",
    "ax.scatter(XY[::10,0], XY[::10,1], res[::10])\n",
    "ax.scatter(XY[::10,0], XY[::10,1], Z[::10])\n",
    "\n",
    "ax.set_xlabel('X')\n",
    "ax.set_ylabel('Y')\n",
    "ax.set_zlabel('Z')\n",
    "plt.show()"
   ]
  }
 ],
 "metadata": {
  "kernelspec": {
   "display_name": "Python 3",
   "language": "python",
   "name": "python3"
  },
  "language_info": {
   "codemirror_mode": {
    "name": "ipython",
    "version": 3
   },
   "file_extension": ".py",
   "mimetype": "text/x-python",
   "name": "python",
   "nbconvert_exporter": "python",
   "pygments_lexer": "ipython3",
   "version": "3.6.9"
  },
  "vscode": {
   "interpreter": {
    "hash": "9d4ed44c6a2a13ca6ab9393ffa30cf54197e027a07f139da5103fcdd4e6439bc"
   }
  }
 },
 "nbformat": 4,
 "nbformat_minor": 4
}
